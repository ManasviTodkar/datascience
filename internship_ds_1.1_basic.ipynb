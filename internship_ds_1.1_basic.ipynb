{
 "cells": [
  {
   "cell_type": "code",
   "execution_count": 1,
   "metadata": {},
   "outputs": [
    {
     "name": "stdout",
     "output_type": "stream",
     "text": [
      "<class 'int'>\n",
      "<class 'str'>\n",
      "11\n",
      "92\n"
     ]
    }
   ],
   "source": [
    "x=5\n",
    "m=6\n",
    "y=\"9\"\n",
    "z=\"2\"\n",
    "print(type(x))\n",
    "print(type(y))\n",
    "print(x+m)\n",
    "print(y+z)"
   ]
  },
  {
   "cell_type": "code",
   "execution_count": 2,
   "metadata": {},
   "outputs": [
    {
     "name": "stdout",
     "output_type": "stream",
     "text": [
      "8\n"
     ]
    },
    {
     "data": {
      "text/plain": [
       "'is used for multi-line commenting as well\\nlike this\\nand\\nthis\\n'"
      ]
     },
     "execution_count": 2,
     "metadata": {},
     "output_type": "execute_result"
    }
   ],
   "source": [
    "#typecasting\n",
    "a=int(z)\n",
    "print(a+m)\n",
    "#a=int(10a) is not alllowed\n",
    "'''is used for multi-line commenting as well\n",
    "like this\n",
    "and\n",
    "this\n",
    "'''"
   ]
  },
  {
   "cell_type": "code",
   "execution_count": 3,
   "metadata": {},
   "outputs": [
    {
     "name": "stdout",
     "output_type": "stream",
     "text": [
      "hello\n",
      "7\n"
     ]
    }
   ],
   "source": [
    "#list\n",
    "l1=['hi',1,7,'list',6.7,9.5,[3,59,'hello']]\n",
    "l2=l1[6][2] #indwxerror: list index out of range if l2=l1[6][5]\n",
    "print(l2)\n",
    "length=len(l1) #length of a list\n",
    "print(length)"
   ]
  },
  {
   "cell_type": "code",
   "execution_count": 4,
   "metadata": {},
   "outputs": [
    {
     "name": "stdout",
     "output_type": "stream",
     "text": [
      "[21, 40.5, 'STRING']\n"
     ]
    }
   ],
   "source": [
    "#python program to illustrate a list\n",
    "#create a empty list\n",
    "nums=[]\n",
    "#appending data in list\n",
    "nums.append(21)\n",
    "nums.append(40.5)\n",
    "nums.append(\"STRING\")\n",
    "print(nums)"
   ]
  },
  {
   "cell_type": "code",
   "execution_count": 5,
   "metadata": {},
   "outputs": [
    {
     "name": "stdout",
     "output_type": "stream",
     "text": [
      "(1, 2, 3, 4, 6)\n"
     ]
    }
   ],
   "source": [
    "#tuple\n",
    "t1=(1,2,3,4,6)\n",
    "print(t1)"
   ]
  },
  {
   "cell_type": "code",
   "execution_count": 6,
   "metadata": {},
   "outputs": [
    {
     "name": "stdout",
     "output_type": "stream",
     "text": [
      "{'NAME': 'HETANSHI', 'AGE': '20', 'PROF': 'STUDENT'}\n",
      "<class 'dict'>\n",
      "dict_keys(['NAME', 'AGE', 'PROF'])\n",
      "dict_items([('NAME', 'HETANSHI'), ('AGE', '20'), ('PROF', 'STUDENT')])\n",
      "dict_values(['HETANSHI', '20', 'STUDENT'])\n",
      "HETANSHI\n"
     ]
    }
   ],
   "source": [
    "#dictionary\n",
    "d1={'NAME':'HETANSHI','AGE':'20','PROF':'STUDENT'}\n",
    "print(d1)\n",
    "print(type(d1))\n",
    "print(d1.keys())\n",
    "print(d1.items())\n",
    "print(d1.values())\n",
    "print(d1['NAME'])"
   ]
  },
  {
   "cell_type": "code",
   "execution_count": 7,
   "metadata": {},
   "outputs": [
    {
     "name": "stdout",
     "output_type": "stream",
     "text": [
      "PRODUCT IS:  9\n",
      "NUM1 IS GREAT\n"
     ]
    }
   ],
   "source": [
    "#accepting integer from the user\n",
    "#the return type of input() function is string\n",
    "#so we need to convert the input to integer\n",
    "num1=int(input(\"ENTER NUM1: \"))\n",
    "num2=int(input(\"ENTER NUM2: \"))\n",
    "num3=num1+num2\n",
    "print(\"PRODUCT IS: \",num3)\n",
    "'''\n",
    "python program to illustrate\n",
    "selection statement\n",
    "'''\n",
    "num1=int(input(\"ENTER A NUMBER: \"))\n",
    "if (num1>12):\n",
    "  print(\"NUM1 IS GOOD\")\n",
    "elif(num1>35):\n",
    "  print(\"NUM1 IS NOT GOOOOOOOODDDDDD......\")\n",
    "else:\n",
    "  print(\"NUM1 IS GREAT\")"
   ]
  }
 ],
 "metadata": {
  "kernelspec": {
   "display_name": "Python 3",
   "language": "python",
   "name": "python3"
  },
  "language_info": {
   "codemirror_mode": {
    "name": "ipython",
    "version": 3
   },
   "file_extension": ".py",
   "mimetype": "text/x-python",
   "name": "python",
   "nbconvert_exporter": "python",
   "pygments_lexer": "ipython3",
   "version": "3.11.9"
  }
 },
 "nbformat": 4,
 "nbformat_minor": 2
}
